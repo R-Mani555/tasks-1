{
 "cells": [
  {
   "cell_type": "code",
   "execution_count": 5,
   "id": "97584309",
   "metadata": {},
   "outputs": [
    {
     "name": "stdout",
     "output_type": "stream",
     "text": [
      "[2, 3, 4, 8, 9, 12, 'apple', 'Apple']\n"
     ]
    }
   ],
   "source": [
    "#Task 1\n",
    "a=[2,3,4,2,3,4,8,9,12,\"apple\",'Apple']\n",
    "distinct=[]\n",
    "for x in a :\n",
    "    if x not in distinct:\n",
    "        distinct.append (x)\n",
    "print (distinct)        \n"
   ]
  },
  {
   "cell_type": "code",
   "execution_count": 6,
   "id": "1aa1abc2",
   "metadata": {},
   "outputs": [
    {
     "data": {
      "text/plain": [
       "' apple'"
      ]
     },
     "execution_count": 6,
     "metadata": {},
     "output_type": "execute_result"
    }
   ],
   "source": [
    "# Task 2\n",
    "# slice 'apple' from the give variable\n",
    "B='i need an apple'\n",
    "B[9:15]\n"
   ]
  },
  {
   "cell_type": "code",
   "execution_count": 7,
   "id": "fc9d4a93",
   "metadata": {},
   "outputs": [
    {
     "data": {
      "text/plain": [
       "'apple'"
      ]
     },
     "execution_count": 7,
     "metadata": {},
     "output_type": "execute_result"
    }
   ],
   "source": [
    "B[-5: ]"
   ]
  },
  {
   "cell_type": "code",
   "execution_count": 2,
   "id": "7b094dcc",
   "metadata": {},
   "outputs": [],
   "source": [
    "#Task-3\n",
    "#add both number when both number are even,\n",
    "#multiple when both number are not a even number\n",
    "def task3 (num1,num2):\n",
    "    if num1 and num2 % 2 ==0:\n",
    "        A=num1+num2\n",
    "        print(A,\"is even\")\n",
    "        return A\n",
    "    else:\n",
    "        A=num1*num2\n",
    "        print(A,\"is odd\")\n",
    "        return A"
   ]
  },
  {
   "cell_type": "code",
   "execution_count": 3,
   "id": "a82b812a",
   "metadata": {},
   "outputs": [
    {
     "name": "stdout",
     "output_type": "stream",
     "text": [
      "6 is even\n"
     ]
    },
    {
     "data": {
      "text/plain": [
       "6"
      ]
     },
     "execution_count": 3,
     "metadata": {},
     "output_type": "execute_result"
    }
   ],
   "source": [
    "task3 (2,4)"
   ]
  },
  {
   "cell_type": "code",
   "execution_count": 4,
   "id": "0345a2ca",
   "metadata": {},
   "outputs": [
    {
     "name": "stdout",
     "output_type": "stream",
     "text": [
      "3 is odd\n"
     ]
    },
    {
     "data": {
      "text/plain": [
       "3"
      ]
     },
     "execution_count": 4,
     "metadata": {},
     "output_type": "execute_result"
    }
   ],
   "source": [
    "task3 (1,3)"
   ]
  },
  {
   "cell_type": "code",
   "execution_count": 8,
   "id": "cd40ae7c",
   "metadata": {},
   "outputs": [
    {
     "data": {
      "text/plain": [
       "30"
      ]
     },
     "execution_count": 8,
     "metadata": {},
     "output_type": "execute_result"
    }
   ],
   "source": [
    "#task 4 create a module\n",
    "def add(a,b):\n",
    "    c=a+b\n",
    "    return (c)\n",
    "add(15,15)"
   ]
  },
  {
   "cell_type": "code",
   "execution_count": 9,
   "id": "52c69210",
   "metadata": {},
   "outputs": [
    {
     "data": {
      "text/plain": [
       "225"
      ]
     },
     "execution_count": 9,
     "metadata": {},
     "output_type": "execute_result"
    }
   ],
   "source": [
    "def multiple(a,b):\n",
    "    c=a*b\n",
    "    return (c)\n",
    "multiple(15,15)"
   ]
  },
  {
   "cell_type": "code",
   "execution_count": 10,
   "id": "e51474f4",
   "metadata": {},
   "outputs": [
    {
     "name": "stdout",
     "output_type": "stream",
     "text": [
      "Enter the number :8\n",
      "8*1=(8,)\n",
      "8*2=(16,)\n",
      "8*3=(24,)\n",
      "8*4=(32,)\n",
      "8*5=(40,)\n",
      "8*6=(48,)\n",
      "8*7=(56,)\n",
      "8*8=(64,)\n",
      "8*9=(72,)\n",
      "8*10=(80,)\n"
     ]
    }
   ],
   "source": [
    "#Task-5\n",
    "# Write a Python program to display a multiplication table(8th table) using for loop.\n",
    "\n",
    "number = int(input(\"Enter the number :\"))\n",
    "for mul in range(1,11) :\n",
    "    print(\"{0}*{1}={2}\".format(number,mul,(number*mul,)))\n",
    " "
   ]
  },
  {
   "cell_type": "code",
   "execution_count": null,
   "id": "1c82315f",
   "metadata": {},
   "outputs": [],
   "source": []
  }
 ],
 "metadata": {
  "kernelspec": {
   "display_name": "Python 3 (ipykernel)",
   "language": "python",
   "name": "python3"
  },
  "language_info": {
   "codemirror_mode": {
    "name": "ipython",
    "version": 3
   },
   "file_extension": ".py",
   "mimetype": "text/x-python",
   "name": "python",
   "nbconvert_exporter": "python",
   "pygments_lexer": "ipython3",
   "version": "3.11.0"
  }
 },
 "nbformat": 4,
 "nbformat_minor": 5
}
